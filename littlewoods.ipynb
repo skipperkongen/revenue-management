{
 "cells": [
  {
   "cell_type": "code",
   "execution_count": 93,
   "metadata": {},
   "outputs": [
    {
     "name": "stdout",
     "output_type": "stream",
     "text": [
      "0.6874806676774586\n"
     ]
    },
    {
     "data": {
      "text/plain": [
       "<matplotlib.axes._subplots.AxesSubplot at 0x1284039b0>"
      ]
     },
     "execution_count": 93,
     "metadata": {},
     "output_type": "execute_result"
    },
    {
     "data": {
      "image/png": "[encoded data removed]",
      "text/plain": [
       "<Figure size 432x288 with 1 Axes>"
      ]
     },
     "metadata": {
      "needs_background": "light"
     },
     "output_type": "display_data"
    }
   ],
   "source": [
    "import math\n",
    "import numpy as np\n",
    "import seaborn as sns\n",
    "\n",
    "def phi(x):\n",
    "    # Cumulative distribution function for the standard normal distribution\n",
    "    return (1.0 + math.erf(x / math.sqrt(2.0))) / 2.0\n",
    "\n",
    "X = np.linspace(-5,5,400)\n",
    "Y = [phi(x) for x in X]\n",
    "\n",
    "def prob_gt(x, mu=0, sigma=1):\n",
    "    z = (x-mu) / sigma\n",
    "    for i, _x in enumerate(X):\n",
    "        if z <= _x:\n",
    "            return 1-Y[i]\n",
    "        \n",
    "def littlewood(fares, demands, sigmas, capacity):\n",
    "    if len(fares) != 2:\n",
    "        raise Exception('Must give exactly two fares')\n",
    "    prot = 0\n",
    "    for x in np.linspace(0,80,320):\n",
    "        e2 = fares[0] * prob_gt(x, mu=demands[0], sigma=sigmas[0])\n",
    "        if fares[1] >= e2:\n",
    "            return math.ceil(prot)\n",
    "        prot = x\n",
    "\n",
    "print(prob_gt(-0.5))\n",
    "sns.lineplot(x=X,y=Y)"
   ]
  },
  {
   "cell_type": "code",
   "execution_count": 96,
   "metadata": {},
   "outputs": [
    {
     "name": "stdout",
     "output_type": "stream",
     "text": [
      "p1 = 27  p2 = 27\n"
     ]
    }
   ],
   "source": [
    "from revpy.revpy import protection_levels\n",
    "\n",
    "# Problem\n",
    "fares = np.array([1300, 400])\n",
    "demands = np.array([21.2, 96.9])\n",
    "sigmas = np.array([11.2, 20.4])\n",
    "capacity = 100\n",
    "\n",
    "# Solutions\n",
    "p1 = littlewood(fares=fares, demands=demands, sigmas=sigmas, capacity=capacity)\n",
    "p2 = protection_levels(fares, demands, sigmas, method='EMSRb')\n",
    "\n",
    "print(f'p1 = {p1}  p2 = {int(p2[1])}')"
   ]
  },
  {
   "cell_type": "code",
   "execution_count": null,
   "metadata": {},
   "outputs": [],
   "source": []
  }
 ],
 "metadata": {
  "kernelspec": {
   "display_name": "Python 3",
   "language": "python",
   "name": "python3"
  },
  "language_info": {
   "codemirror_mode": {
    "name": "ipython",
    "version": 3
   },
   "file_extension": ".py",
   "mimetype": "text/x-python",
   "name": "python",
   "nbconvert_exporter": "python",
   "pygments_lexer": "ipython3",
   "version": "3.7.3"
  }
 },
 "nbformat": 4,
 "nbformat_minor": 4
}
